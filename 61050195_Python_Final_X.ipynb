{
  "nbformat": 4,
  "nbformat_minor": 0,
  "metadata": {
    "colab": {
      "name": " 61050195 Python Final X",
      "provenance": [],
      "collapsed_sections": []
    },
    "kernelspec": {
      "name": "python3",
      "display_name": "Python 3"
    }
  },
  "cells": [
    {
      "cell_type": "code",
      "metadata": {
        "id": "hyrWxj8c2och"
      },
      "source": [
        "import pandas as pd \n",
        "import numpy as np\n",
        "import matplotlib.pyplot as plt\n",
        "from sklearn.model_selection import train_test_split\n",
        "from sklearn.tree import export_graphviz\n",
        " \n",
        "# วัดประสิทธิภาพ\n",
        "from sklearn.metrics import classification_report,confusion_matrix\n",
        "from sklearn import metrics"
      ],
      "execution_count": null,
      "outputs": []
    },
    {
      "cell_type": "code",
      "metadata": {
        "colab": {
          "base_uri": "https://localhost:8080/",
          "height": 197
        },
        "id": "kqaGsfxL2sXA",
        "outputId": "9d9e7643-527f-4054-aff5-3d0ce6b6309a"
      },
      "source": [
        "url = 'https://raw.githubusercontent.com/earth4950/examdataset/main/dataset%20python.csv'\n",
        "df = pd.read_csv(url)\n",
        "df.head()"
      ],
      "execution_count": null,
      "outputs": [
        {
          "output_type": "execute_result",
          "data": {
            "text/html": [
              "<div>\n",
              "<style scoped>\n",
              "    .dataframe tbody tr th:only-of-type {\n",
              "        vertical-align: middle;\n",
              "    }\n",
              "\n",
              "    .dataframe tbody tr th {\n",
              "        vertical-align: top;\n",
              "    }\n",
              "\n",
              "    .dataframe thead th {\n",
              "        text-align: right;\n",
              "    }\n",
              "</style>\n",
              "<table border=\"1\" class=\"dataframe\">\n",
              "  <thead>\n",
              "    <tr style=\"text-align: right;\">\n",
              "      <th></th>\n",
              "      <th>Case ID</th>\n",
              "      <th>Name</th>\n",
              "      <th>Social Security No.</th>\n",
              "      <th>Age</th>\n",
              "      <th>Sex</th>\n",
              "      <th>Status</th>\n",
              "      <th>Income</th>\n",
              "      <th>GPA</th>\n",
              "      <th>Class</th>\n",
              "    </tr>\n",
              "  </thead>\n",
              "  <tbody>\n",
              "    <tr>\n",
              "      <th>0</th>\n",
              "      <td>1</td>\n",
              "      <td>John</td>\n",
              "      <td>123321</td>\n",
              "      <td>22</td>\n",
              "      <td>Male</td>\n",
              "      <td>Student</td>\n",
              "      <td>3000</td>\n",
              "      <td>3.22</td>\n",
              "      <td>Invite</td>\n",
              "    </tr>\n",
              "    <tr>\n",
              "      <th>1</th>\n",
              "      <td>2</td>\n",
              "      <td>Mary</td>\n",
              "      <td>343422</td>\n",
              "      <td>38</td>\n",
              "      <td>Female</td>\n",
              "      <td>Employee</td>\n",
              "      <td>32000</td>\n",
              "      <td>2.00</td>\n",
              "      <td>Invite</td>\n",
              "    </tr>\n",
              "    <tr>\n",
              "      <th>2</th>\n",
              "      <td>3</td>\n",
              "      <td>Ali</td>\n",
              "      <td>876345</td>\n",
              "      <td>46</td>\n",
              "      <td>Male</td>\n",
              "      <td>Employee</td>\n",
              "      <td>69000</td>\n",
              "      <td>2.90</td>\n",
              "      <td>Invite</td>\n",
              "    </tr>\n",
              "    <tr>\n",
              "      <th>3</th>\n",
              "      <td>4</td>\n",
              "      <td>Lee</td>\n",
              "      <td>673245</td>\n",
              "      <td>23</td>\n",
              "      <td>Male</td>\n",
              "      <td>Student</td>\n",
              "      <td>3500</td>\n",
              "      <td>3.10</td>\n",
              "      <td>Invite</td>\n",
              "    </tr>\n",
              "    <tr>\n",
              "      <th>4</th>\n",
              "      <td>5</td>\n",
              "      <td>Ted</td>\n",
              "      <td>451087</td>\n",
              "      <td>45</td>\n",
              "      <td>Male</td>\n",
              "      <td>Unemployed</td>\n",
              "      <td>5000</td>\n",
              "      <td>3.10</td>\n",
              "      <td>Don't</td>\n",
              "    </tr>\n",
              "  </tbody>\n",
              "</table>\n",
              "</div>"
            ],
            "text/plain": [
              "   Case ID  Name  Social Security No.  Age  ...      Status Income   GPA   Class\n",
              "0        1  John               123321   22  ...     Student   3000  3.22  Invite\n",
              "1        2  Mary               343422   38  ...    Employee  32000  2.00  Invite\n",
              "2        3   Ali               876345   46  ...    Employee  69000  2.90  Invite\n",
              "3        4   Lee               673245   23  ...     Student   3500  3.10  Invite\n",
              "4        5   Ted               451087   45  ...  Unemployed   5000  3.10   Don't\n",
              "\n",
              "[5 rows x 9 columns]"
            ]
          },
          "metadata": {
            "tags": []
          },
          "execution_count": 2
        }
      ]
    },
    {
      "cell_type": "code",
      "metadata": {
        "colab": {
          "base_uri": "https://localhost:8080/",
          "height": 197
        },
        "id": "Vr3TV4uu5Izl",
        "outputId": "7ca807e4-5276-41da-9d3e-7a2fae31994e"
      },
      "source": [
        "conversion_dict = {\"Don't\": 0, \"Invite\": 1,}\n",
        "df['Class'] = df['Class'].replace(conversion_dict)\n",
        "df.head()"
      ],
      "execution_count": null,
      "outputs": [
        {
          "output_type": "execute_result",
          "data": {
            "text/html": [
              "<div>\n",
              "<style scoped>\n",
              "    .dataframe tbody tr th:only-of-type {\n",
              "        vertical-align: middle;\n",
              "    }\n",
              "\n",
              "    .dataframe tbody tr th {\n",
              "        vertical-align: top;\n",
              "    }\n",
              "\n",
              "    .dataframe thead th {\n",
              "        text-align: right;\n",
              "    }\n",
              "</style>\n",
              "<table border=\"1\" class=\"dataframe\">\n",
              "  <thead>\n",
              "    <tr style=\"text-align: right;\">\n",
              "      <th></th>\n",
              "      <th>Case ID</th>\n",
              "      <th>Name</th>\n",
              "      <th>Social Security No.</th>\n",
              "      <th>Age</th>\n",
              "      <th>Sex</th>\n",
              "      <th>Status</th>\n",
              "      <th>Income</th>\n",
              "      <th>GPA</th>\n",
              "      <th>Class</th>\n",
              "    </tr>\n",
              "  </thead>\n",
              "  <tbody>\n",
              "    <tr>\n",
              "      <th>0</th>\n",
              "      <td>1</td>\n",
              "      <td>John</td>\n",
              "      <td>123321</td>\n",
              "      <td>22</td>\n",
              "      <td>Male</td>\n",
              "      <td>Student</td>\n",
              "      <td>3000</td>\n",
              "      <td>3.22</td>\n",
              "      <td>1</td>\n",
              "    </tr>\n",
              "    <tr>\n",
              "      <th>1</th>\n",
              "      <td>2</td>\n",
              "      <td>Mary</td>\n",
              "      <td>343422</td>\n",
              "      <td>38</td>\n",
              "      <td>Female</td>\n",
              "      <td>Employee</td>\n",
              "      <td>32000</td>\n",
              "      <td>2.00</td>\n",
              "      <td>1</td>\n",
              "    </tr>\n",
              "    <tr>\n",
              "      <th>2</th>\n",
              "      <td>3</td>\n",
              "      <td>Ali</td>\n",
              "      <td>876345</td>\n",
              "      <td>46</td>\n",
              "      <td>Male</td>\n",
              "      <td>Employee</td>\n",
              "      <td>69000</td>\n",
              "      <td>2.90</td>\n",
              "      <td>1</td>\n",
              "    </tr>\n",
              "    <tr>\n",
              "      <th>3</th>\n",
              "      <td>4</td>\n",
              "      <td>Lee</td>\n",
              "      <td>673245</td>\n",
              "      <td>23</td>\n",
              "      <td>Male</td>\n",
              "      <td>Student</td>\n",
              "      <td>3500</td>\n",
              "      <td>3.10</td>\n",
              "      <td>1</td>\n",
              "    </tr>\n",
              "    <tr>\n",
              "      <th>4</th>\n",
              "      <td>5</td>\n",
              "      <td>Ted</td>\n",
              "      <td>451087</td>\n",
              "      <td>45</td>\n",
              "      <td>Male</td>\n",
              "      <td>Unemployed</td>\n",
              "      <td>5000</td>\n",
              "      <td>3.10</td>\n",
              "      <td>0</td>\n",
              "    </tr>\n",
              "  </tbody>\n",
              "</table>\n",
              "</div>"
            ],
            "text/plain": [
              "   Case ID  Name  Social Security No.  Age  ...      Status Income   GPA  Class\n",
              "0        1  John               123321   22  ...     Student   3000  3.22      1\n",
              "1        2  Mary               343422   38  ...    Employee  32000  2.00      1\n",
              "2        3   Ali               876345   46  ...    Employee  69000  2.90      1\n",
              "3        4   Lee               673245   23  ...     Student   3500  3.10      1\n",
              "4        5   Ted               451087   45  ...  Unemployed   5000  3.10      0\n",
              "\n",
              "[5 rows x 9 columns]"
            ]
          },
          "metadata": {
            "tags": []
          },
          "execution_count": 3
        }
      ]
    },
    {
      "cell_type": "code",
      "metadata": {
        "colab": {
          "base_uri": "https://localhost:8080/",
          "height": 197
        },
        "id": "0uRVUHXaEoXT",
        "outputId": "6b3ef690-f9ad-4a27-fb17-b8b00cec74cf"
      },
      "source": [
        "conversion_dict = {\"Female\": 0, \"Male\": 1,}\n",
        "df['Sex'] = df['Sex'].replace(conversion_dict)\n",
        "df.head()"
      ],
      "execution_count": null,
      "outputs": [
        {
          "output_type": "execute_result",
          "data": {
            "text/html": [
              "<div>\n",
              "<style scoped>\n",
              "    .dataframe tbody tr th:only-of-type {\n",
              "        vertical-align: middle;\n",
              "    }\n",
              "\n",
              "    .dataframe tbody tr th {\n",
              "        vertical-align: top;\n",
              "    }\n",
              "\n",
              "    .dataframe thead th {\n",
              "        text-align: right;\n",
              "    }\n",
              "</style>\n",
              "<table border=\"1\" class=\"dataframe\">\n",
              "  <thead>\n",
              "    <tr style=\"text-align: right;\">\n",
              "      <th></th>\n",
              "      <th>Case ID</th>\n",
              "      <th>Name</th>\n",
              "      <th>Social Security No.</th>\n",
              "      <th>Age</th>\n",
              "      <th>Sex</th>\n",
              "      <th>Status</th>\n",
              "      <th>Income</th>\n",
              "      <th>GPA</th>\n",
              "      <th>Class</th>\n",
              "    </tr>\n",
              "  </thead>\n",
              "  <tbody>\n",
              "    <tr>\n",
              "      <th>0</th>\n",
              "      <td>1</td>\n",
              "      <td>John</td>\n",
              "      <td>123321</td>\n",
              "      <td>22</td>\n",
              "      <td>1</td>\n",
              "      <td>Student</td>\n",
              "      <td>3000</td>\n",
              "      <td>3.22</td>\n",
              "      <td>1</td>\n",
              "    </tr>\n",
              "    <tr>\n",
              "      <th>1</th>\n",
              "      <td>2</td>\n",
              "      <td>Mary</td>\n",
              "      <td>343422</td>\n",
              "      <td>38</td>\n",
              "      <td>0</td>\n",
              "      <td>Employee</td>\n",
              "      <td>32000</td>\n",
              "      <td>2.00</td>\n",
              "      <td>1</td>\n",
              "    </tr>\n",
              "    <tr>\n",
              "      <th>2</th>\n",
              "      <td>3</td>\n",
              "      <td>Ali</td>\n",
              "      <td>876345</td>\n",
              "      <td>46</td>\n",
              "      <td>1</td>\n",
              "      <td>Employee</td>\n",
              "      <td>69000</td>\n",
              "      <td>2.90</td>\n",
              "      <td>1</td>\n",
              "    </tr>\n",
              "    <tr>\n",
              "      <th>3</th>\n",
              "      <td>4</td>\n",
              "      <td>Lee</td>\n",
              "      <td>673245</td>\n",
              "      <td>23</td>\n",
              "      <td>1</td>\n",
              "      <td>Student</td>\n",
              "      <td>3500</td>\n",
              "      <td>3.10</td>\n",
              "      <td>1</td>\n",
              "    </tr>\n",
              "    <tr>\n",
              "      <th>4</th>\n",
              "      <td>5</td>\n",
              "      <td>Ted</td>\n",
              "      <td>451087</td>\n",
              "      <td>45</td>\n",
              "      <td>1</td>\n",
              "      <td>Unemployed</td>\n",
              "      <td>5000</td>\n",
              "      <td>3.10</td>\n",
              "      <td>0</td>\n",
              "    </tr>\n",
              "  </tbody>\n",
              "</table>\n",
              "</div>"
            ],
            "text/plain": [
              "   Case ID  Name  Social Security No.  Age  ...      Status Income   GPA  Class\n",
              "0        1  John               123321   22  ...     Student   3000  3.22      1\n",
              "1        2  Mary               343422   38  ...    Employee  32000  2.00      1\n",
              "2        3   Ali               876345   46  ...    Employee  69000  2.90      1\n",
              "3        4   Lee               673245   23  ...     Student   3500  3.10      1\n",
              "4        5   Ted               451087   45  ...  Unemployed   5000  3.10      0\n",
              "\n",
              "[5 rows x 9 columns]"
            ]
          },
          "metadata": {
            "tags": []
          },
          "execution_count": 4
        }
      ]
    },
    {
      "cell_type": "code",
      "metadata": {
        "colab": {
          "base_uri": "https://localhost:8080/",
          "height": 197
        },
        "id": "ydTd6LC_Et-_",
        "outputId": "01b14af6-ea47-478a-c0bd-4df340525349"
      },
      "source": [
        "conversion_dict = {\"Student\": 1, \"Employee\": 2,\"Unemployed\":0}\n",
        "df['Status'] = df['Status'].replace(conversion_dict)\n",
        "df.head()"
      ],
      "execution_count": null,
      "outputs": [
        {
          "output_type": "execute_result",
          "data": {
            "text/html": [
              "<div>\n",
              "<style scoped>\n",
              "    .dataframe tbody tr th:only-of-type {\n",
              "        vertical-align: middle;\n",
              "    }\n",
              "\n",
              "    .dataframe tbody tr th {\n",
              "        vertical-align: top;\n",
              "    }\n",
              "\n",
              "    .dataframe thead th {\n",
              "        text-align: right;\n",
              "    }\n",
              "</style>\n",
              "<table border=\"1\" class=\"dataframe\">\n",
              "  <thead>\n",
              "    <tr style=\"text-align: right;\">\n",
              "      <th></th>\n",
              "      <th>Case ID</th>\n",
              "      <th>Name</th>\n",
              "      <th>Social Security No.</th>\n",
              "      <th>Age</th>\n",
              "      <th>Sex</th>\n",
              "      <th>Status</th>\n",
              "      <th>Income</th>\n",
              "      <th>GPA</th>\n",
              "      <th>Class</th>\n",
              "    </tr>\n",
              "  </thead>\n",
              "  <tbody>\n",
              "    <tr>\n",
              "      <th>0</th>\n",
              "      <td>1</td>\n",
              "      <td>John</td>\n",
              "      <td>123321</td>\n",
              "      <td>22</td>\n",
              "      <td>1</td>\n",
              "      <td>1</td>\n",
              "      <td>3000</td>\n",
              "      <td>3.22</td>\n",
              "      <td>1</td>\n",
              "    </tr>\n",
              "    <tr>\n",
              "      <th>1</th>\n",
              "      <td>2</td>\n",
              "      <td>Mary</td>\n",
              "      <td>343422</td>\n",
              "      <td>38</td>\n",
              "      <td>0</td>\n",
              "      <td>2</td>\n",
              "      <td>32000</td>\n",
              "      <td>2.00</td>\n",
              "      <td>1</td>\n",
              "    </tr>\n",
              "    <tr>\n",
              "      <th>2</th>\n",
              "      <td>3</td>\n",
              "      <td>Ali</td>\n",
              "      <td>876345</td>\n",
              "      <td>46</td>\n",
              "      <td>1</td>\n",
              "      <td>2</td>\n",
              "      <td>69000</td>\n",
              "      <td>2.90</td>\n",
              "      <td>1</td>\n",
              "    </tr>\n",
              "    <tr>\n",
              "      <th>3</th>\n",
              "      <td>4</td>\n",
              "      <td>Lee</td>\n",
              "      <td>673245</td>\n",
              "      <td>23</td>\n",
              "      <td>1</td>\n",
              "      <td>1</td>\n",
              "      <td>3500</td>\n",
              "      <td>3.10</td>\n",
              "      <td>1</td>\n",
              "    </tr>\n",
              "    <tr>\n",
              "      <th>4</th>\n",
              "      <td>5</td>\n",
              "      <td>Ted</td>\n",
              "      <td>451087</td>\n",
              "      <td>45</td>\n",
              "      <td>1</td>\n",
              "      <td>0</td>\n",
              "      <td>5000</td>\n",
              "      <td>3.10</td>\n",
              "      <td>0</td>\n",
              "    </tr>\n",
              "  </tbody>\n",
              "</table>\n",
              "</div>"
            ],
            "text/plain": [
              "   Case ID  Name  Social Security No.  Age  Sex  Status  Income   GPA  Class\n",
              "0        1  John               123321   22    1       1    3000  3.22      1\n",
              "1        2  Mary               343422   38    0       2   32000  2.00      1\n",
              "2        3   Ali               876345   46    1       2   69000  2.90      1\n",
              "3        4   Lee               673245   23    1       1    3500  3.10      1\n",
              "4        5   Ted               451087   45    1       0    5000  3.10      0"
            ]
          },
          "metadata": {
            "tags": []
          },
          "execution_count": 5
        }
      ]
    },
    {
      "cell_type": "code",
      "metadata": {
        "colab": {
          "base_uri": "https://localhost:8080/",
          "height": 497
        },
        "id": "Sn7tvGvDBVxi",
        "outputId": "727d3562-41b3-47e9-fbcc-cec6dee307cb"
      },
      "source": [
        "# clean data\n",
        "\n",
        "new_df = df.iloc[:,[0,2,3,4,5,6,7,8]]\n",
        "new_df"
      ],
      "execution_count": null,
      "outputs": [
        {
          "output_type": "execute_result",
          "data": {
            "text/html": [
              "<div>\n",
              "<style scoped>\n",
              "    .dataframe tbody tr th:only-of-type {\n",
              "        vertical-align: middle;\n",
              "    }\n",
              "\n",
              "    .dataframe tbody tr th {\n",
              "        vertical-align: top;\n",
              "    }\n",
              "\n",
              "    .dataframe thead th {\n",
              "        text-align: right;\n",
              "    }\n",
              "</style>\n",
              "<table border=\"1\" class=\"dataframe\">\n",
              "  <thead>\n",
              "    <tr style=\"text-align: right;\">\n",
              "      <th></th>\n",
              "      <th>Case ID</th>\n",
              "      <th>Social Security No.</th>\n",
              "      <th>Age</th>\n",
              "      <th>Sex</th>\n",
              "      <th>Status</th>\n",
              "      <th>Income</th>\n",
              "      <th>GPA</th>\n",
              "      <th>Class</th>\n",
              "    </tr>\n",
              "  </thead>\n",
              "  <tbody>\n",
              "    <tr>\n",
              "      <th>0</th>\n",
              "      <td>1</td>\n",
              "      <td>123321</td>\n",
              "      <td>22</td>\n",
              "      <td>1</td>\n",
              "      <td>1</td>\n",
              "      <td>3000</td>\n",
              "      <td>3.22</td>\n",
              "      <td>1</td>\n",
              "    </tr>\n",
              "    <tr>\n",
              "      <th>1</th>\n",
              "      <td>2</td>\n",
              "      <td>343422</td>\n",
              "      <td>38</td>\n",
              "      <td>0</td>\n",
              "      <td>2</td>\n",
              "      <td>32000</td>\n",
              "      <td>2.00</td>\n",
              "      <td>1</td>\n",
              "    </tr>\n",
              "    <tr>\n",
              "      <th>2</th>\n",
              "      <td>3</td>\n",
              "      <td>876345</td>\n",
              "      <td>46</td>\n",
              "      <td>1</td>\n",
              "      <td>2</td>\n",
              "      <td>69000</td>\n",
              "      <td>2.90</td>\n",
              "      <td>1</td>\n",
              "    </tr>\n",
              "    <tr>\n",
              "      <th>3</th>\n",
              "      <td>4</td>\n",
              "      <td>673245</td>\n",
              "      <td>23</td>\n",
              "      <td>1</td>\n",
              "      <td>1</td>\n",
              "      <td>3500</td>\n",
              "      <td>3.10</td>\n",
              "      <td>1</td>\n",
              "    </tr>\n",
              "    <tr>\n",
              "      <th>4</th>\n",
              "      <td>5</td>\n",
              "      <td>451087</td>\n",
              "      <td>45</td>\n",
              "      <td>1</td>\n",
              "      <td>0</td>\n",
              "      <td>5000</td>\n",
              "      <td>3.10</td>\n",
              "      <td>0</td>\n",
              "    </tr>\n",
              "    <tr>\n",
              "      <th>5</th>\n",
              "      <td>6</td>\n",
              "      <td>239847</td>\n",
              "      <td>19</td>\n",
              "      <td>1</td>\n",
              "      <td>1</td>\n",
              "      <td>1300</td>\n",
              "      <td>3.80</td>\n",
              "      <td>0</td>\n",
              "    </tr>\n",
              "    <tr>\n",
              "      <th>6</th>\n",
              "      <td>7</td>\n",
              "      <td>229951</td>\n",
              "      <td>23</td>\n",
              "      <td>0</td>\n",
              "      <td>1</td>\n",
              "      <td>12000</td>\n",
              "      <td>2.80</td>\n",
              "      <td>0</td>\n",
              "    </tr>\n",
              "    <tr>\n",
              "      <th>7</th>\n",
              "      <td>8</td>\n",
              "      <td>234819</td>\n",
              "      <td>33</td>\n",
              "      <td>0</td>\n",
              "      <td>0</td>\n",
              "      <td>5000</td>\n",
              "      <td>0.00</td>\n",
              "      <td>0</td>\n",
              "    </tr>\n",
              "    <tr>\n",
              "      <th>8</th>\n",
              "      <td>9</td>\n",
              "      <td>258199</td>\n",
              "      <td>32</td>\n",
              "      <td>1</td>\n",
              "      <td>1</td>\n",
              "      <td>1000</td>\n",
              "      <td>2.10</td>\n",
              "      <td>0</td>\n",
              "    </tr>\n",
              "    <tr>\n",
              "      <th>9</th>\n",
              "      <td>10</td>\n",
              "      <td>813672</td>\n",
              "      <td>20</td>\n",
              "      <td>1</td>\n",
              "      <td>1</td>\n",
              "      <td>32000</td>\n",
              "      <td>3.90</td>\n",
              "      <td>0</td>\n",
              "    </tr>\n",
              "    <tr>\n",
              "      <th>10</th>\n",
              "      <td>11</td>\n",
              "      <td>501184</td>\n",
              "      <td>23</td>\n",
              "      <td>0</td>\n",
              "      <td>1</td>\n",
              "      <td>6600</td>\n",
              "      <td>3.30</td>\n",
              "      <td>1</td>\n",
              "    </tr>\n",
              "    <tr>\n",
              "      <th>11</th>\n",
              "      <td>12</td>\n",
              "      <td>619458</td>\n",
              "      <td>40</td>\n",
              "      <td>1</td>\n",
              "      <td>0</td>\n",
              "      <td>35000</td>\n",
              "      <td>3.30</td>\n",
              "      <td>0</td>\n",
              "    </tr>\n",
              "    <tr>\n",
              "      <th>12</th>\n",
              "      <td>13</td>\n",
              "      <td>654397</td>\n",
              "      <td>31</td>\n",
              "      <td>0</td>\n",
              "      <td>0</td>\n",
              "      <td>14000</td>\n",
              "      <td>3.00</td>\n",
              "      <td>0</td>\n",
              "    </tr>\n",
              "    <tr>\n",
              "      <th>13</th>\n",
              "      <td>14</td>\n",
              "      <td>350932</td>\n",
              "      <td>59</td>\n",
              "      <td>1</td>\n",
              "      <td>2</td>\n",
              "      <td>29000</td>\n",
              "      <td>2.80</td>\n",
              "      <td>0</td>\n",
              "    </tr>\n",
              "    <tr>\n",
              "      <th>14</th>\n",
              "      <td>15</td>\n",
              "      <td>357922</td>\n",
              "      <td>33</td>\n",
              "      <td>1</td>\n",
              "      <td>2</td>\n",
              "      <td>19000</td>\n",
              "      <td>2.60</td>\n",
              "      <td>0</td>\n",
              "    </tr>\n",
              "  </tbody>\n",
              "</table>\n",
              "</div>"
            ],
            "text/plain": [
              "    Case ID  Social Security No.  Age  Sex  Status  Income   GPA  Class\n",
              "0         1               123321   22    1       1    3000  3.22      1\n",
              "1         2               343422   38    0       2   32000  2.00      1\n",
              "2         3               876345   46    1       2   69000  2.90      1\n",
              "3         4               673245   23    1       1    3500  3.10      1\n",
              "4         5               451087   45    1       0    5000  3.10      0\n",
              "5         6               239847   19    1       1    1300  3.80      0\n",
              "6         7               229951   23    0       1   12000  2.80      0\n",
              "7         8               234819   33    0       0    5000  0.00      0\n",
              "8         9               258199   32    1       1    1000  2.10      0\n",
              "9        10               813672   20    1       1   32000  3.90      0\n",
              "10       11               501184   23    0       1    6600  3.30      1\n",
              "11       12               619458   40    1       0   35000  3.30      0\n",
              "12       13               654397   31    0       0   14000  3.00      0\n",
              "13       14               350932   59    1       2   29000  2.80      0\n",
              "14       15               357922   33    1       2   19000  2.60      0"
            ]
          },
          "metadata": {
            "tags": []
          },
          "execution_count": 6
        }
      ]
    },
    {
      "cell_type": "markdown",
      "metadata": {
        "id": "0i41DL99jK64"
      },
      "source": [
        "**Decision Tree**"
      ]
    },
    {
      "cell_type": "code",
      "metadata": {
        "id": "wZcOREkzBB-_"
      },
      "source": [
        "# Train Test \n",
        "x = new_df\n",
        "y = df[\"Class\"]\n",
        "\n",
        "x_train , x_test , y_train , y_test = train_test_split(x,y , random_state =0 , test_size = 0.4)"
      ],
      "execution_count": null,
      "outputs": []
    },
    {
      "cell_type": "code",
      "metadata": {
        "id": "4IanYp7QBDoI"
      },
      "source": [
        "# Model Dicision Tree\n",
        "from sklearn import tree\n",
        "clf = tree.DecisionTreeClassifier(criterion = \"entropy\" , max_depth = 3 , min_samples_leaf = 5)\n",
        "# Trainning Model\n",
        "clf.fit(x_train , y_train)\n",
        "y_predict = clf.predict(x_test)"
      ],
      "execution_count": null,
      "outputs": []
    },
    {
      "cell_type": "code",
      "metadata": {
        "colab": {
          "base_uri": "https://localhost:8080/",
          "height": 227
        },
        "id": "NUvcPpRkBGu3",
        "outputId": "f144550d-2c03-4f52-d809-23e7d9fe4af4"
      },
      "source": [
        "# เทียบค่า y_test vs y_predict\n",
        "df_result = pd.DataFrame({'Actually': y_test , 'Predicted' : y_predict})\n",
        "df_result"
      ],
      "execution_count": null,
      "outputs": [
        {
          "output_type": "execute_result",
          "data": {
            "text/html": [
              "<div>\n",
              "<style scoped>\n",
              "    .dataframe tbody tr th:only-of-type {\n",
              "        vertical-align: middle;\n",
              "    }\n",
              "\n",
              "    .dataframe tbody tr th {\n",
              "        vertical-align: top;\n",
              "    }\n",
              "\n",
              "    .dataframe thead th {\n",
              "        text-align: right;\n",
              "    }\n",
              "</style>\n",
              "<table border=\"1\" class=\"dataframe\">\n",
              "  <thead>\n",
              "    <tr style=\"text-align: right;\">\n",
              "      <th></th>\n",
              "      <th>Actually</th>\n",
              "      <th>Predicted</th>\n",
              "    </tr>\n",
              "  </thead>\n",
              "  <tbody>\n",
              "    <tr>\n",
              "      <th>1</th>\n",
              "      <td>1</td>\n",
              "      <td>0</td>\n",
              "    </tr>\n",
              "    <tr>\n",
              "      <th>6</th>\n",
              "      <td>0</td>\n",
              "      <td>0</td>\n",
              "    </tr>\n",
              "    <tr>\n",
              "      <th>8</th>\n",
              "      <td>0</td>\n",
              "      <td>0</td>\n",
              "    </tr>\n",
              "    <tr>\n",
              "      <th>9</th>\n",
              "      <td>0</td>\n",
              "      <td>0</td>\n",
              "    </tr>\n",
              "    <tr>\n",
              "      <th>14</th>\n",
              "      <td>0</td>\n",
              "      <td>0</td>\n",
              "    </tr>\n",
              "    <tr>\n",
              "      <th>4</th>\n",
              "      <td>0</td>\n",
              "      <td>0</td>\n",
              "    </tr>\n",
              "  </tbody>\n",
              "</table>\n",
              "</div>"
            ],
            "text/plain": [
              "    Actually  Predicted\n",
              "1          1          0\n",
              "6          0          0\n",
              "8          0          0\n",
              "9          0          0\n",
              "14         0          0\n",
              "4          0          0"
            ]
          },
          "metadata": {
            "tags": []
          },
          "execution_count": 9
        }
      ]
    },
    {
      "cell_type": "code",
      "metadata": {
        "colab": {
          "base_uri": "https://localhost:8080/",
          "height": 167
        },
        "id": "u8VWfjVAFTAX",
        "outputId": "79ff0d55-d4a4-4f64-bdd4-f72f654bab0f"
      },
      "source": [
        "# วัดผลโมเดล \n",
        "pd.crosstab(y_test,y_predict , rownames=[\"Actually\"] , colnames=[\"Prediction\"] , margins=True)"
      ],
      "execution_count": null,
      "outputs": [
        {
          "output_type": "execute_result",
          "data": {
            "text/html": [
              "<div>\n",
              "<style scoped>\n",
              "    .dataframe tbody tr th:only-of-type {\n",
              "        vertical-align: middle;\n",
              "    }\n",
              "\n",
              "    .dataframe tbody tr th {\n",
              "        vertical-align: top;\n",
              "    }\n",
              "\n",
              "    .dataframe thead th {\n",
              "        text-align: right;\n",
              "    }\n",
              "</style>\n",
              "<table border=\"1\" class=\"dataframe\">\n",
              "  <thead>\n",
              "    <tr style=\"text-align: right;\">\n",
              "      <th>Prediction</th>\n",
              "      <th>0</th>\n",
              "      <th>All</th>\n",
              "    </tr>\n",
              "    <tr>\n",
              "      <th>Actually</th>\n",
              "      <th></th>\n",
              "      <th></th>\n",
              "    </tr>\n",
              "  </thead>\n",
              "  <tbody>\n",
              "    <tr>\n",
              "      <th>0</th>\n",
              "      <td>5</td>\n",
              "      <td>5</td>\n",
              "    </tr>\n",
              "    <tr>\n",
              "      <th>1</th>\n",
              "      <td>1</td>\n",
              "      <td>1</td>\n",
              "    </tr>\n",
              "    <tr>\n",
              "      <th>All</th>\n",
              "      <td>6</td>\n",
              "      <td>6</td>\n",
              "    </tr>\n",
              "  </tbody>\n",
              "</table>\n",
              "</div>"
            ],
            "text/plain": [
              "Prediction  0  All\n",
              "Actually          \n",
              "0           5    5\n",
              "1           1    1\n",
              "All         6    6"
            ]
          },
          "metadata": {
            "tags": []
          },
          "execution_count": 10
        }
      ]
    },
    {
      "cell_type": "code",
      "metadata": {
        "colab": {
          "base_uri": "https://localhost:8080/"
        },
        "id": "oUyp4wyiFbPZ",
        "outputId": "da131a34-371e-44d8-fdbc-c8ceb7894c88"
      },
      "source": [
        "# Accuracy Score\n",
        "Accuracy_DicisionTree = metrics.accuracy_score(y_test,y_predict)\n",
        "print(\"Accuracy Score = \" , Accuracy_DicisionTree)"
      ],
      "execution_count": null,
      "outputs": [
        {
          "output_type": "stream",
          "text": [
            "Accuracy Score =  0.8333333333333334\n"
          ],
          "name": "stdout"
        }
      ]
    },
    {
      "cell_type": "markdown",
      "metadata": {
        "id": "PWy4PnPTMkT9"
      },
      "source": [
        "**Random Forest**"
      ]
    },
    {
      "cell_type": "code",
      "metadata": {
        "id": "rFt9ArjVMbHB"
      },
      "source": [
        "x = new_df\n",
        "y = df[\"Class\"]\n",
        "\n",
        "x_train , x_test , y_train , y_test = train_test_split(x,y , random_state =0 , test_size = 0.4)"
      ],
      "execution_count": null,
      "outputs": []
    },
    {
      "cell_type": "code",
      "metadata": {
        "id": "RAu0tRntNBGX"
      },
      "source": [
        "# Model Random Forest\n",
        "from sklearn.ensemble import RandomForestClassifier\n",
        "m = RandomForestClassifier(n_estimators = 200 , min_samples_leaf = 3 , max_features=0.3 , oob_score = True)\n",
        "m.fit(x_train , y_train)\n",
        "y_predict = m.predict(x_test)"
      ],
      "execution_count": null,
      "outputs": []
    },
    {
      "cell_type": "code",
      "metadata": {
        "colab": {
          "base_uri": "https://localhost:8080/",
          "height": 227
        },
        "id": "1pTbgWw1NByn",
        "outputId": "46b50039-1d69-49bf-8e80-822e1828a515"
      },
      "source": [
        "# เทียบค่า y_test vs y_predict\n",
        "Result = pd.DataFrame({'Actually': y_test , 'Predicted' : y_predict})\n",
        "Result"
      ],
      "execution_count": null,
      "outputs": [
        {
          "output_type": "execute_result",
          "data": {
            "text/html": [
              "<div>\n",
              "<style scoped>\n",
              "    .dataframe tbody tr th:only-of-type {\n",
              "        vertical-align: middle;\n",
              "    }\n",
              "\n",
              "    .dataframe tbody tr th {\n",
              "        vertical-align: top;\n",
              "    }\n",
              "\n",
              "    .dataframe thead th {\n",
              "        text-align: right;\n",
              "    }\n",
              "</style>\n",
              "<table border=\"1\" class=\"dataframe\">\n",
              "  <thead>\n",
              "    <tr style=\"text-align: right;\">\n",
              "      <th></th>\n",
              "      <th>Actually</th>\n",
              "      <th>Predicted</th>\n",
              "    </tr>\n",
              "  </thead>\n",
              "  <tbody>\n",
              "    <tr>\n",
              "      <th>1</th>\n",
              "      <td>1</td>\n",
              "      <td>0</td>\n",
              "    </tr>\n",
              "    <tr>\n",
              "      <th>6</th>\n",
              "      <td>0</td>\n",
              "      <td>0</td>\n",
              "    </tr>\n",
              "    <tr>\n",
              "      <th>8</th>\n",
              "      <td>0</td>\n",
              "      <td>0</td>\n",
              "    </tr>\n",
              "    <tr>\n",
              "      <th>9</th>\n",
              "      <td>0</td>\n",
              "      <td>0</td>\n",
              "    </tr>\n",
              "    <tr>\n",
              "      <th>14</th>\n",
              "      <td>0</td>\n",
              "      <td>0</td>\n",
              "    </tr>\n",
              "    <tr>\n",
              "      <th>4</th>\n",
              "      <td>0</td>\n",
              "      <td>0</td>\n",
              "    </tr>\n",
              "  </tbody>\n",
              "</table>\n",
              "</div>"
            ],
            "text/plain": [
              "    Actually  Predicted\n",
              "1          1          0\n",
              "6          0          0\n",
              "8          0          0\n",
              "9          0          0\n",
              "14         0          0\n",
              "4          0          0"
            ]
          },
          "metadata": {
            "tags": []
          },
          "execution_count": 15
        }
      ]
    },
    {
      "cell_type": "code",
      "metadata": {
        "colab": {
          "base_uri": "https://localhost:8080/",
          "height": 167
        },
        "id": "QCud6TKvNGc_",
        "outputId": "6bd6af3d-b863-4418-e958-7dd63f2343f5"
      },
      "source": [
        "# วัดผลโมเดล\n",
        "pd.crosstab(y_test,y_predict , rownames=[\"Actually\"] , colnames=[\"Prediction\"] , margins=True)\n"
      ],
      "execution_count": null,
      "outputs": [
        {
          "output_type": "execute_result",
          "data": {
            "text/html": [
              "<div>\n",
              "<style scoped>\n",
              "    .dataframe tbody tr th:only-of-type {\n",
              "        vertical-align: middle;\n",
              "    }\n",
              "\n",
              "    .dataframe tbody tr th {\n",
              "        vertical-align: top;\n",
              "    }\n",
              "\n",
              "    .dataframe thead th {\n",
              "        text-align: right;\n",
              "    }\n",
              "</style>\n",
              "<table border=\"1\" class=\"dataframe\">\n",
              "  <thead>\n",
              "    <tr style=\"text-align: right;\">\n",
              "      <th>Prediction</th>\n",
              "      <th>0</th>\n",
              "      <th>All</th>\n",
              "    </tr>\n",
              "    <tr>\n",
              "      <th>Actually</th>\n",
              "      <th></th>\n",
              "      <th></th>\n",
              "    </tr>\n",
              "  </thead>\n",
              "  <tbody>\n",
              "    <tr>\n",
              "      <th>0</th>\n",
              "      <td>5</td>\n",
              "      <td>5</td>\n",
              "    </tr>\n",
              "    <tr>\n",
              "      <th>1</th>\n",
              "      <td>1</td>\n",
              "      <td>1</td>\n",
              "    </tr>\n",
              "    <tr>\n",
              "      <th>All</th>\n",
              "      <td>6</td>\n",
              "      <td>6</td>\n",
              "    </tr>\n",
              "  </tbody>\n",
              "</table>\n",
              "</div>"
            ],
            "text/plain": [
              "Prediction  0  All\n",
              "Actually          \n",
              "0           5    5\n",
              "1           1    1\n",
              "All         6    6"
            ]
          },
          "metadata": {
            "tags": []
          },
          "execution_count": 16
        }
      ]
    },
    {
      "cell_type": "code",
      "metadata": {
        "colab": {
          "base_uri": "https://localhost:8080/"
        },
        "id": "-nKGOS3qNHry",
        "outputId": "eeb43eb6-1f2f-4bed-ec3e-0bdc95bd69b9"
      },
      "source": [
        "# Accuracy Score\n",
        "Accuracy_RandomForest = metrics.accuracy_score(y_test,y_predict)\n",
        "print(\"Accuracy Score = \" , Accuracy_RandomForest )"
      ],
      "execution_count": null,
      "outputs": [
        {
          "output_type": "stream",
          "text": [
            "Accuracy Score =  0.8333333333333334\n"
          ],
          "name": "stdout"
        }
      ]
    },
    {
      "cell_type": "markdown",
      "metadata": {
        "id": "nut7cR7xOS9V"
      },
      "source": [
        "**XGBOOST**"
      ]
    },
    {
      "cell_type": "code",
      "metadata": {
        "id": "uOjyBddPOZ4Q"
      },
      "source": [
        "# Train Test \n",
        "x = new_df\n",
        "y = df[\"Class\"]\n",
        "\n",
        "x_train , x_test , y_train , y_test = train_test_split(x,y , random_state =0 , test_size = 0.4)"
      ],
      "execution_count": null,
      "outputs": []
    },
    {
      "cell_type": "code",
      "metadata": {
        "id": "w8qQnANzOdvC"
      },
      "source": [
        "# Model GradientBoostingClassifier\n",
        "from sklearn.ensemble import GradientBoostingClassifier\n",
        "w = GradientBoostingClassifier(n_estimators = 200 , min_samples_leaf = 3 , max_features=0.5)\n",
        "w.fit(x_train , y_train)\n",
        "y_predict = w.predict(x_test)"
      ],
      "execution_count": null,
      "outputs": []
    },
    {
      "cell_type": "code",
      "metadata": {
        "colab": {
          "base_uri": "https://localhost:8080/",
          "height": 227
        },
        "id": "NawKpwWDOrIJ",
        "outputId": "a0552c14-6987-4381-8081-ae65bdb405f1"
      },
      "source": [
        "# เทียบค่า y_test vs y_predict\n",
        "Result2 = pd.DataFrame({'Actually': y_test , 'Predicted' : y_predict})\n",
        "Result2"
      ],
      "execution_count": null,
      "outputs": [
        {
          "output_type": "execute_result",
          "data": {
            "text/html": [
              "<div>\n",
              "<style scoped>\n",
              "    .dataframe tbody tr th:only-of-type {\n",
              "        vertical-align: middle;\n",
              "    }\n",
              "\n",
              "    .dataframe tbody tr th {\n",
              "        vertical-align: top;\n",
              "    }\n",
              "\n",
              "    .dataframe thead th {\n",
              "        text-align: right;\n",
              "    }\n",
              "</style>\n",
              "<table border=\"1\" class=\"dataframe\">\n",
              "  <thead>\n",
              "    <tr style=\"text-align: right;\">\n",
              "      <th></th>\n",
              "      <th>Actually</th>\n",
              "      <th>Predicted</th>\n",
              "    </tr>\n",
              "  </thead>\n",
              "  <tbody>\n",
              "    <tr>\n",
              "      <th>1</th>\n",
              "      <td>1</td>\n",
              "      <td>1</td>\n",
              "    </tr>\n",
              "    <tr>\n",
              "      <th>6</th>\n",
              "      <td>0</td>\n",
              "      <td>0</td>\n",
              "    </tr>\n",
              "    <tr>\n",
              "      <th>8</th>\n",
              "      <td>0</td>\n",
              "      <td>0</td>\n",
              "    </tr>\n",
              "    <tr>\n",
              "      <th>9</th>\n",
              "      <td>0</td>\n",
              "      <td>0</td>\n",
              "    </tr>\n",
              "    <tr>\n",
              "      <th>14</th>\n",
              "      <td>0</td>\n",
              "      <td>0</td>\n",
              "    </tr>\n",
              "    <tr>\n",
              "      <th>4</th>\n",
              "      <td>0</td>\n",
              "      <td>0</td>\n",
              "    </tr>\n",
              "  </tbody>\n",
              "</table>\n",
              "</div>"
            ],
            "text/plain": [
              "    Actually  Predicted\n",
              "1          1          1\n",
              "6          0          0\n",
              "8          0          0\n",
              "9          0          0\n",
              "14         0          0\n",
              "4          0          0"
            ]
          },
          "metadata": {
            "tags": []
          },
          "execution_count": 21
        }
      ]
    },
    {
      "cell_type": "code",
      "metadata": {
        "colab": {
          "base_uri": "https://localhost:8080/",
          "height": 167
        },
        "id": "yTXvijKsOs-l",
        "outputId": "699ab8e0-e339-4b49-ea46-ebfd9edce10a"
      },
      "source": [
        "# วัดผลโมเดล\n",
        "pd.crosstab(y_test,y_predict , rownames=[\"Actually\"] , colnames=[\"Prediction\"] , margins=True)"
      ],
      "execution_count": null,
      "outputs": [
        {
          "output_type": "execute_result",
          "data": {
            "text/html": [
              "<div>\n",
              "<style scoped>\n",
              "    .dataframe tbody tr th:only-of-type {\n",
              "        vertical-align: middle;\n",
              "    }\n",
              "\n",
              "    .dataframe tbody tr th {\n",
              "        vertical-align: top;\n",
              "    }\n",
              "\n",
              "    .dataframe thead th {\n",
              "        text-align: right;\n",
              "    }\n",
              "</style>\n",
              "<table border=\"1\" class=\"dataframe\">\n",
              "  <thead>\n",
              "    <tr style=\"text-align: right;\">\n",
              "      <th>Prediction</th>\n",
              "      <th>0</th>\n",
              "      <th>1</th>\n",
              "      <th>All</th>\n",
              "    </tr>\n",
              "    <tr>\n",
              "      <th>Actually</th>\n",
              "      <th></th>\n",
              "      <th></th>\n",
              "      <th></th>\n",
              "    </tr>\n",
              "  </thead>\n",
              "  <tbody>\n",
              "    <tr>\n",
              "      <th>0</th>\n",
              "      <td>5</td>\n",
              "      <td>0</td>\n",
              "      <td>5</td>\n",
              "    </tr>\n",
              "    <tr>\n",
              "      <th>1</th>\n",
              "      <td>0</td>\n",
              "      <td>1</td>\n",
              "      <td>1</td>\n",
              "    </tr>\n",
              "    <tr>\n",
              "      <th>All</th>\n",
              "      <td>5</td>\n",
              "      <td>1</td>\n",
              "      <td>6</td>\n",
              "    </tr>\n",
              "  </tbody>\n",
              "</table>\n",
              "</div>"
            ],
            "text/plain": [
              "Prediction  0  1  All\n",
              "Actually             \n",
              "0           5  0    5\n",
              "1           0  1    1\n",
              "All         5  1    6"
            ]
          },
          "metadata": {
            "tags": []
          },
          "execution_count": 22
        }
      ]
    },
    {
      "cell_type": "code",
      "metadata": {
        "colab": {
          "base_uri": "https://localhost:8080/"
        },
        "id": "dgwlV8lpd-zG",
        "outputId": "66a3418f-34f5-4a91-a231-082dd48bfcf6"
      },
      "source": [
        "# Accuracy Score\n",
        "Accuracy_XGBoost = metrics.accuracy_score(y_test,y_predict)\n",
        "print(\"Accuracy Score = \" , Accuracy_XGBoost)"
      ],
      "execution_count": null,
      "outputs": [
        {
          "output_type": "stream",
          "text": [
            "Accuracy Score =  1.0\n"
          ],
          "name": "stdout"
        }
      ]
    }
  ]
}